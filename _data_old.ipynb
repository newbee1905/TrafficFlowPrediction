{
 "cells": [
  {
   "cell_type": "code",
   "execution_count": 4,
   "metadata": {},
   "outputs": [],
   "source": [
    "import numpy as np\n",
    "import pandas as pd\n",
    "from sklearn.preprocessing import StandardScaler, MinMaxScaler"
   ]
  },
  {
   "cell_type": "markdown",
   "metadata": {},
   "source": []
  },
  {
   "cell_type": "code",
   "execution_count": 5,
   "metadata": {},
   "outputs": [
    {
     "data": {
      "text/html": [
       "<div>\n",
       "<style scoped>\n",
       "    .dataframe tbody tr th:only-of-type {\n",
       "        vertical-align: middle;\n",
       "    }\n",
       "\n",
       "    .dataframe tbody tr th {\n",
       "        vertical-align: top;\n",
       "    }\n",
       "\n",
       "    .dataframe thead th {\n",
       "        text-align: right;\n",
       "    }\n",
       "</style>\n",
       "<table border=\"1\" class=\"dataframe\">\n",
       "  <thead>\n",
       "    <tr style=\"text-align: right;\">\n",
       "      <th></th>\n",
       "      <th>5 Minutes</th>\n",
       "      <th>Lane 1 Flow (Veh/5 Minutes)</th>\n",
       "      <th># Lane Points</th>\n",
       "      <th>% Observed</th>\n",
       "    </tr>\n",
       "  </thead>\n",
       "  <tbody>\n",
       "    <tr>\n",
       "      <th>0</th>\n",
       "      <td>04/01/2016 0:00</td>\n",
       "      <td>12</td>\n",
       "      <td>1</td>\n",
       "      <td>100</td>\n",
       "    </tr>\n",
       "    <tr>\n",
       "      <th>1</th>\n",
       "      <td>04/01/2016 0:05</td>\n",
       "      <td>13</td>\n",
       "      <td>1</td>\n",
       "      <td>100</td>\n",
       "    </tr>\n",
       "    <tr>\n",
       "      <th>2</th>\n",
       "      <td>04/01/2016 0:10</td>\n",
       "      <td>11</td>\n",
       "      <td>1</td>\n",
       "      <td>100</td>\n",
       "    </tr>\n",
       "    <tr>\n",
       "      <th>3</th>\n",
       "      <td>04/01/2016 0:15</td>\n",
       "      <td>13</td>\n",
       "      <td>1</td>\n",
       "      <td>100</td>\n",
       "    </tr>\n",
       "    <tr>\n",
       "      <th>4</th>\n",
       "      <td>04/01/2016 0:20</td>\n",
       "      <td>10</td>\n",
       "      <td>1</td>\n",
       "      <td>100</td>\n",
       "    </tr>\n",
       "    <tr>\n",
       "      <th>...</th>\n",
       "      <td>...</td>\n",
       "      <td>...</td>\n",
       "      <td>...</td>\n",
       "      <td>...</td>\n",
       "    </tr>\n",
       "    <tr>\n",
       "      <th>7771</th>\n",
       "      <td>29/02/2016 23:35</td>\n",
       "      <td>19</td>\n",
       "      <td>1</td>\n",
       "      <td>100</td>\n",
       "    </tr>\n",
       "    <tr>\n",
       "      <th>7772</th>\n",
       "      <td>29/02/2016 23:40</td>\n",
       "      <td>6</td>\n",
       "      <td>1</td>\n",
       "      <td>100</td>\n",
       "    </tr>\n",
       "    <tr>\n",
       "      <th>7773</th>\n",
       "      <td>29/02/2016 23:45</td>\n",
       "      <td>14</td>\n",
       "      <td>1</td>\n",
       "      <td>100</td>\n",
       "    </tr>\n",
       "    <tr>\n",
       "      <th>7774</th>\n",
       "      <td>29/02/2016 23:50</td>\n",
       "      <td>11</td>\n",
       "      <td>1</td>\n",
       "      <td>100</td>\n",
       "    </tr>\n",
       "    <tr>\n",
       "      <th>7775</th>\n",
       "      <td>29/02/2016 23:55</td>\n",
       "      <td>10</td>\n",
       "      <td>1</td>\n",
       "      <td>100</td>\n",
       "    </tr>\n",
       "  </tbody>\n",
       "</table>\n",
       "<p>7776 rows × 4 columns</p>\n",
       "</div>"
      ],
      "text/plain": [
       "             5 Minutes  Lane 1 Flow (Veh/5 Minutes)  # Lane Points  % Observed\n",
       "0      04/01/2016 0:00                           12              1         100\n",
       "1      04/01/2016 0:05                           13              1         100\n",
       "2      04/01/2016 0:10                           11              1         100\n",
       "3      04/01/2016 0:15                           13              1         100\n",
       "4      04/01/2016 0:20                           10              1         100\n",
       "...                ...                          ...            ...         ...\n",
       "7771  29/02/2016 23:35                           19              1         100\n",
       "7772  29/02/2016 23:40                            6              1         100\n",
       "7773  29/02/2016 23:45                           14              1         100\n",
       "7774  29/02/2016 23:50                           11              1         100\n",
       "7775  29/02/2016 23:55                           10              1         100\n",
       "\n",
       "[7776 rows x 4 columns]"
      ]
     },
     "execution_count": 5,
     "metadata": {},
     "output_type": "execute_result"
    }
   ],
   "source": [
    "df = pd.read_csv(\"data/train.csv\")\n",
    "df\n"
   ]
  },
  {
   "cell_type": "code",
   "execution_count": 6,
   "metadata": {},
   "outputs": [
    {
     "data": {
      "text/plain": [
       "array([0.06091371, 0.06598985, 0.05583756, ..., 0.07106599, 0.05583756,\n",
       "       0.05076142])"
      ]
     },
     "execution_count": 6,
     "metadata": {},
     "output_type": "execute_result"
    }
   ],
   "source": [
    "\n",
    "attr = 'Lane 1 Flow (Veh/5 Minutes)'\n",
    "scaler = MinMaxScaler(feature_range=(0, 1)).fit(df[attr].values.reshape(-1, 1))\n",
    "flow = scaler.transform(df[attr].values.reshape(-1, 1)).reshape(1, -1)[0]\n",
    "flow"
   ]
  },
  {
   "cell_type": "code",
   "execution_count": 63,
   "metadata": {},
   "outputs": [
    {
     "data": {
      "text/plain": [
       "array([[0.06091371, 0.06598985, 0.05583756, ..., 0.03553299, 0.04060914,\n",
       "        0.04060914],\n",
       "       [0.06598985, 0.05583756, 0.06598985, ..., 0.04060914, 0.04060914,\n",
       "        0.06091371],\n",
       "       [0.05583756, 0.06598985, 0.05076142, ..., 0.04060914, 0.06091371,\n",
       "        0.03553299],\n",
       "       ...,\n",
       "       [0.08121827, 0.13705584, 0.10659898, ..., 0.0964467 , 0.03045685,\n",
       "        0.07106599],\n",
       "       [0.13705584, 0.10659898, 0.10152284, ..., 0.03045685, 0.07106599,\n",
       "        0.05583756],\n",
       "       [0.10659898, 0.10152284, 0.05583756, ..., 0.07106599, 0.05583756,\n",
       "        0.05076142]])"
      ]
     },
     "execution_count": 63,
     "metadata": {},
     "output_type": "execute_result"
    }
   ],
   "source": [
    "lags = 12\n",
    "train= []\n",
    "for i in range(lags, len(flow)):\n",
    "\ttrain.append(flow[i - lags: i + 1])\n",
    "indices = np.arange(lags, len(flow))\n",
    "offsets = np.arange(-lags, 1)\n",
    "train2 = flow[indices[:, np.newaxis] + offsets]\n",
    "train2"
   ]
  },
  {
   "cell_type": "code",
   "execution_count": 60,
   "metadata": {},
   "outputs": [
    {
     "data": {
      "text/plain": [
       "[array([1, 2, 3, 4]),\n",
       " array([2, 3, 4, 5]),\n",
       " array([3, 4, 5, 6]),\n",
       " array([4, 5, 6, 7]),\n",
       " array([5, 6, 7, 8]),\n",
       " array([6, 7, 8, 9]),\n",
       " array([ 7,  8,  9, 10])]"
      ]
     },
     "execution_count": 60,
     "metadata": {},
     "output_type": "execute_result"
    }
   ],
   "source": [
    "tmp = 3\n",
    "test = np.array([1, 2, 3, 4, 5, 6, 7, 8, 9, 10])\n",
    "train = []\n",
    "for i in range(tmp, len(test)):\n",
    "\ttrain.append(test[i - tmp: i + 1])\n",
    "indices = np.arange(tmp, len(test)).reshape(-1, 1)\n",
    "test[indices + np.arange(-tmp, 1)]\n",
    "# train"
   ]
  }
 ],
 "metadata": {
  "kernelspec": {
   "display_name": "TrafficFlowPrediction-WPfhaqHo",
   "language": "python",
   "name": "python3"
  },
  "language_info": {
   "codemirror_mode": {
    "name": "ipython",
    "version": 3
   },
   "file_extension": ".py",
   "mimetype": "text/x-python",
   "name": "python",
   "nbconvert_exporter": "python",
   "pygments_lexer": "ipython3",
   "version": "3.11.3"
  },
  "orig_nbformat": 4
 },
 "nbformat": 4,
 "nbformat_minor": 2
}
