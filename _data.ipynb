{
 "cells": [
  {
   "cell_type": "code",
   "execution_count": 1,
   "metadata": {},
   "outputs": [],
   "source": [
    "import numpy as np\n",
    "import pandas as pd\n",
    "from sklearn.preprocessing import StandardScaler, MinMaxScaler\n",
    "from sklearn.model_selection import train_test_split"
   ]
  },
  {
   "cell_type": "markdown",
   "metadata": {},
   "source": [
    "## Parsing the Excel file\n",
    "\n",
    "The first header's row only contains the timestamp starting from 00:00 with an increment of 15 minutes.\n",
    "\n",
    "We can ignore it since we can re-calculate the value from the id of velocity and remove that header increase in the readability of the table."
   ]
  },
  {
   "cell_type": "code",
   "execution_count": 2,
   "metadata": {},
   "outputs": [
    {
     "data": {
      "text/html": [
       "<div>\n",
       "<style scoped>\n",
       "    .dataframe tbody tr th:only-of-type {\n",
       "        vertical-align: middle;\n",
       "    }\n",
       "\n",
       "    .dataframe tbody tr th {\n",
       "        vertical-align: top;\n",
       "    }\n",
       "\n",
       "    .dataframe thead th {\n",
       "        text-align: right;\n",
       "    }\n",
       "</style>\n",
       "<table border=\"1\" class=\"dataframe\">\n",
       "  <thead>\n",
       "    <tr style=\"text-align: right;\">\n",
       "      <th></th>\n",
       "      <th>SCATS Number</th>\n",
       "      <th>Location</th>\n",
       "      <th>CD_MELWAY</th>\n",
       "      <th>NB_LATITUDE</th>\n",
       "      <th>NB_LONGITUDE</th>\n",
       "      <th>HF VicRoads Internal</th>\n",
       "      <th>VR Internal Stat</th>\n",
       "      <th>VR Internal Loc</th>\n",
       "      <th>NB_TYPE_SURVEY</th>\n",
       "      <th>Date</th>\n",
       "      <th>...</th>\n",
       "      <th>V86</th>\n",
       "      <th>V87</th>\n",
       "      <th>V88</th>\n",
       "      <th>V89</th>\n",
       "      <th>V90</th>\n",
       "      <th>V91</th>\n",
       "      <th>V92</th>\n",
       "      <th>V93</th>\n",
       "      <th>V94</th>\n",
       "      <th>V95</th>\n",
       "    </tr>\n",
       "  </thead>\n",
       "  <tbody>\n",
       "    <tr>\n",
       "      <th>0</th>\n",
       "      <td>970</td>\n",
       "      <td>WARRIGAL_RD N of HIGH STREET_RD</td>\n",
       "      <td>060 G10</td>\n",
       "      <td>-37.86703</td>\n",
       "      <td>145.09159</td>\n",
       "      <td>249</td>\n",
       "      <td>182</td>\n",
       "      <td>1</td>\n",
       "      <td>1</td>\n",
       "      <td>2006-10-01 00:15:00</td>\n",
       "      <td>...</td>\n",
       "      <td>114</td>\n",
       "      <td>97</td>\n",
       "      <td>97</td>\n",
       "      <td>66</td>\n",
       "      <td>81</td>\n",
       "      <td>50</td>\n",
       "      <td>59</td>\n",
       "      <td>47</td>\n",
       "      <td>29</td>\n",
       "      <td>34</td>\n",
       "    </tr>\n",
       "    <tr>\n",
       "      <th>1</th>\n",
       "      <td>970</td>\n",
       "      <td>WARRIGAL_RD N of HIGH STREET_RD</td>\n",
       "      <td>060 G10</td>\n",
       "      <td>-37.86703</td>\n",
       "      <td>145.09159</td>\n",
       "      <td>249</td>\n",
       "      <td>182</td>\n",
       "      <td>1</td>\n",
       "      <td>1</td>\n",
       "      <td>2006-10-02 00:15:00</td>\n",
       "      <td>...</td>\n",
       "      <td>111</td>\n",
       "      <td>102</td>\n",
       "      <td>107</td>\n",
       "      <td>114</td>\n",
       "      <td>80</td>\n",
       "      <td>60</td>\n",
       "      <td>62</td>\n",
       "      <td>48</td>\n",
       "      <td>44</td>\n",
       "      <td>26</td>\n",
       "    </tr>\n",
       "    <tr>\n",
       "      <th>2</th>\n",
       "      <td>970</td>\n",
       "      <td>WARRIGAL_RD N of HIGH STREET_RD</td>\n",
       "      <td>060 G10</td>\n",
       "      <td>-37.86703</td>\n",
       "      <td>145.09159</td>\n",
       "      <td>249</td>\n",
       "      <td>182</td>\n",
       "      <td>1</td>\n",
       "      <td>1</td>\n",
       "      <td>2006-10-03 00:15:00</td>\n",
       "      <td>...</td>\n",
       "      <td>130</td>\n",
       "      <td>132</td>\n",
       "      <td>114</td>\n",
       "      <td>86</td>\n",
       "      <td>93</td>\n",
       "      <td>90</td>\n",
       "      <td>73</td>\n",
       "      <td>57</td>\n",
       "      <td>29</td>\n",
       "      <td>40</td>\n",
       "    </tr>\n",
       "    <tr>\n",
       "      <th>3</th>\n",
       "      <td>970</td>\n",
       "      <td>WARRIGAL_RD N of HIGH STREET_RD</td>\n",
       "      <td>060 G10</td>\n",
       "      <td>-37.86703</td>\n",
       "      <td>145.09159</td>\n",
       "      <td>249</td>\n",
       "      <td>182</td>\n",
       "      <td>1</td>\n",
       "      <td>1</td>\n",
       "      <td>2006-10-04 00:15:00</td>\n",
       "      <td>...</td>\n",
       "      <td>115</td>\n",
       "      <td>113</td>\n",
       "      <td>132</td>\n",
       "      <td>101</td>\n",
       "      <td>113</td>\n",
       "      <td>90</td>\n",
       "      <td>78</td>\n",
       "      <td>66</td>\n",
       "      <td>52</td>\n",
       "      <td>44</td>\n",
       "    </tr>\n",
       "    <tr>\n",
       "      <th>4</th>\n",
       "      <td>970</td>\n",
       "      <td>WARRIGAL_RD N of HIGH STREET_RD</td>\n",
       "      <td>060 G10</td>\n",
       "      <td>-37.86703</td>\n",
       "      <td>145.09159</td>\n",
       "      <td>249</td>\n",
       "      <td>182</td>\n",
       "      <td>1</td>\n",
       "      <td>1</td>\n",
       "      <td>2006-10-05 00:15:00</td>\n",
       "      <td>...</td>\n",
       "      <td>171</td>\n",
       "      <td>120</td>\n",
       "      <td>116</td>\n",
       "      <td>113</td>\n",
       "      <td>99</td>\n",
       "      <td>91</td>\n",
       "      <td>61</td>\n",
       "      <td>55</td>\n",
       "      <td>49</td>\n",
       "      <td>36</td>\n",
       "    </tr>\n",
       "    <tr>\n",
       "      <th>...</th>\n",
       "      <td>...</td>\n",
       "      <td>...</td>\n",
       "      <td>...</td>\n",
       "      <td>...</td>\n",
       "      <td>...</td>\n",
       "      <td>...</td>\n",
       "      <td>...</td>\n",
       "      <td>...</td>\n",
       "      <td>...</td>\n",
       "      <td>...</td>\n",
       "      <td>...</td>\n",
       "      <td>...</td>\n",
       "      <td>...</td>\n",
       "      <td>...</td>\n",
       "      <td>...</td>\n",
       "      <td>...</td>\n",
       "      <td>...</td>\n",
       "      <td>...</td>\n",
       "      <td>...</td>\n",
       "      <td>...</td>\n",
       "      <td>...</td>\n",
       "    </tr>\n",
       "    <tr>\n",
       "      <th>4187</th>\n",
       "      <td>4821</td>\n",
       "      <td>VICTORIA_ST W OF BURNLEY_ST</td>\n",
       "      <td>002HF02</td>\n",
       "      <td>-37.81296</td>\n",
       "      <td>145.00830</td>\n",
       "      <td>6673</td>\n",
       "      <td>1513</td>\n",
       "      <td>7</td>\n",
       "      <td>1</td>\n",
       "      <td>2006-10-27 00:15:00</td>\n",
       "      <td>...</td>\n",
       "      <td>122</td>\n",
       "      <td>121</td>\n",
       "      <td>127</td>\n",
       "      <td>103</td>\n",
       "      <td>122</td>\n",
       "      <td>124</td>\n",
       "      <td>117</td>\n",
       "      <td>99</td>\n",
       "      <td>108</td>\n",
       "      <td>88</td>\n",
       "    </tr>\n",
       "    <tr>\n",
       "      <th>4188</th>\n",
       "      <td>4821</td>\n",
       "      <td>VICTORIA_ST W OF BURNLEY_ST</td>\n",
       "      <td>002HF02</td>\n",
       "      <td>-37.81296</td>\n",
       "      <td>145.00830</td>\n",
       "      <td>6673</td>\n",
       "      <td>1513</td>\n",
       "      <td>7</td>\n",
       "      <td>1</td>\n",
       "      <td>2006-10-28 00:15:00</td>\n",
       "      <td>...</td>\n",
       "      <td>93</td>\n",
       "      <td>93</td>\n",
       "      <td>93</td>\n",
       "      <td>105</td>\n",
       "      <td>105</td>\n",
       "      <td>112</td>\n",
       "      <td>82</td>\n",
       "      <td>97</td>\n",
       "      <td>106</td>\n",
       "      <td>107</td>\n",
       "    </tr>\n",
       "    <tr>\n",
       "      <th>4189</th>\n",
       "      <td>4821</td>\n",
       "      <td>VICTORIA_ST W OF BURNLEY_ST</td>\n",
       "      <td>002HF02</td>\n",
       "      <td>-37.81296</td>\n",
       "      <td>145.00830</td>\n",
       "      <td>6673</td>\n",
       "      <td>1513</td>\n",
       "      <td>7</td>\n",
       "      <td>1</td>\n",
       "      <td>2006-10-29 00:15:00</td>\n",
       "      <td>...</td>\n",
       "      <td>87</td>\n",
       "      <td>118</td>\n",
       "      <td>83</td>\n",
       "      <td>76</td>\n",
       "      <td>66</td>\n",
       "      <td>64</td>\n",
       "      <td>77</td>\n",
       "      <td>60</td>\n",
       "      <td>49</td>\n",
       "      <td>45</td>\n",
       "    </tr>\n",
       "    <tr>\n",
       "      <th>4190</th>\n",
       "      <td>4821</td>\n",
       "      <td>VICTORIA_ST W OF BURNLEY_ST</td>\n",
       "      <td>002HF02</td>\n",
       "      <td>-37.81296</td>\n",
       "      <td>145.00830</td>\n",
       "      <td>6673</td>\n",
       "      <td>1513</td>\n",
       "      <td>7</td>\n",
       "      <td>1</td>\n",
       "      <td>2006-10-30 00:15:00</td>\n",
       "      <td>...</td>\n",
       "      <td>90</td>\n",
       "      <td>88</td>\n",
       "      <td>89</td>\n",
       "      <td>80</td>\n",
       "      <td>74</td>\n",
       "      <td>48</td>\n",
       "      <td>67</td>\n",
       "      <td>62</td>\n",
       "      <td>50</td>\n",
       "      <td>62</td>\n",
       "    </tr>\n",
       "    <tr>\n",
       "      <th>4191</th>\n",
       "      <td>4821</td>\n",
       "      <td>VICTORIA_ST W OF BURNLEY_ST</td>\n",
       "      <td>002HF02</td>\n",
       "      <td>-37.81296</td>\n",
       "      <td>145.00830</td>\n",
       "      <td>6673</td>\n",
       "      <td>1513</td>\n",
       "      <td>7</td>\n",
       "      <td>1</td>\n",
       "      <td>2006-10-31 00:15:00</td>\n",
       "      <td>...</td>\n",
       "      <td>123</td>\n",
       "      <td>103</td>\n",
       "      <td>93</td>\n",
       "      <td>87</td>\n",
       "      <td>74</td>\n",
       "      <td>87</td>\n",
       "      <td>75</td>\n",
       "      <td>63</td>\n",
       "      <td>51</td>\n",
       "      <td>54</td>\n",
       "    </tr>\n",
       "  </tbody>\n",
       "</table>\n",
       "<p>4192 rows × 106 columns</p>\n",
       "</div>"
      ],
      "text/plain": [
       "      SCATS Number                         Location CD_MELWAY  NB_LATITUDE  \\\n",
       "0              970  WARRIGAL_RD N of HIGH STREET_RD   060 G10    -37.86703   \n",
       "1              970  WARRIGAL_RD N of HIGH STREET_RD   060 G10    -37.86703   \n",
       "2              970  WARRIGAL_RD N of HIGH STREET_RD   060 G10    -37.86703   \n",
       "3              970  WARRIGAL_RD N of HIGH STREET_RD   060 G10    -37.86703   \n",
       "4              970  WARRIGAL_RD N of HIGH STREET_RD   060 G10    -37.86703   \n",
       "...            ...                              ...       ...          ...   \n",
       "4187          4821      VICTORIA_ST W OF BURNLEY_ST   002HF02    -37.81296   \n",
       "4188          4821      VICTORIA_ST W OF BURNLEY_ST   002HF02    -37.81296   \n",
       "4189          4821      VICTORIA_ST W OF BURNLEY_ST   002HF02    -37.81296   \n",
       "4190          4821      VICTORIA_ST W OF BURNLEY_ST   002HF02    -37.81296   \n",
       "4191          4821      VICTORIA_ST W OF BURNLEY_ST   002HF02    -37.81296   \n",
       "\n",
       "      NB_LONGITUDE  HF VicRoads Internal  VR Internal Stat  VR Internal Loc  \\\n",
       "0        145.09159                   249               182                1   \n",
       "1        145.09159                   249               182                1   \n",
       "2        145.09159                   249               182                1   \n",
       "3        145.09159                   249               182                1   \n",
       "4        145.09159                   249               182                1   \n",
       "...            ...                   ...               ...              ...   \n",
       "4187     145.00830                  6673              1513                7   \n",
       "4188     145.00830                  6673              1513                7   \n",
       "4189     145.00830                  6673              1513                7   \n",
       "4190     145.00830                  6673              1513                7   \n",
       "4191     145.00830                  6673              1513                7   \n",
       "\n",
       "      NB_TYPE_SURVEY                Date  ...  V86  V87  V88  V89  V90  V91  \\\n",
       "0                  1 2006-10-01 00:15:00  ...  114   97   97   66   81   50   \n",
       "1                  1 2006-10-02 00:15:00  ...  111  102  107  114   80   60   \n",
       "2                  1 2006-10-03 00:15:00  ...  130  132  114   86   93   90   \n",
       "3                  1 2006-10-04 00:15:00  ...  115  113  132  101  113   90   \n",
       "4                  1 2006-10-05 00:15:00  ...  171  120  116  113   99   91   \n",
       "...              ...                 ...  ...  ...  ...  ...  ...  ...  ...   \n",
       "4187               1 2006-10-27 00:15:00  ...  122  121  127  103  122  124   \n",
       "4188               1 2006-10-28 00:15:00  ...   93   93   93  105  105  112   \n",
       "4189               1 2006-10-29 00:15:00  ...   87  118   83   76   66   64   \n",
       "4190               1 2006-10-30 00:15:00  ...   90   88   89   80   74   48   \n",
       "4191               1 2006-10-31 00:15:00  ...  123  103   93   87   74   87   \n",
       "\n",
       "      V92  V93  V94  V95  \n",
       "0      59   47   29   34  \n",
       "1      62   48   44   26  \n",
       "2      73   57   29   40  \n",
       "3      78   66   52   44  \n",
       "4      61   55   49   36  \n",
       "...   ...  ...  ...  ...  \n",
       "4187  117   99  108   88  \n",
       "4188   82   97  106  107  \n",
       "4189   77   60   49   45  \n",
       "4190   67   62   50   62  \n",
       "4191   75   63   51   54  \n",
       "\n",
       "[4192 rows x 106 columns]"
      ]
     },
     "execution_count": 2,
     "metadata": {},
     "output_type": "execute_result"
    }
   ],
   "source": [
    "df = pd.read_excel(\"data/Scats Data October 2006.xls\", sheet_name=\"Data\", header=[1])\n",
    "df"
   ]
  },
  {
   "cell_type": "markdown",
   "metadata": {},
   "source": [
    "## Getting the positon of the first collums of velocity\n",
    "\n",
    "Return the array of arrays containing velocity from V00 to V95"
   ]
  },
  {
   "cell_type": "code",
   "execution_count": 3,
   "metadata": {},
   "outputs": [
    {
     "data": {
      "text/plain": [
       "array([[86, 83, 52, ..., 47, 29, 34],\n",
       "       [32, 28, 17, ..., 48, 44, 26],\n",
       "       [26, 32, 21, ..., 57, 29, 40],\n",
       "       ...,\n",
       "       [100, 81, 89, ..., 60, 49, 45],\n",
       "       [40, 29, 36, ..., 62, 50, 62],\n",
       "       [36, 30, 24, ..., 63, 51, 54]], dtype=object)"
      ]
     },
     "execution_count": 3,
     "metadata": {},
     "output_type": "execute_result"
    }
   ],
   "source": [
    "\n",
    "first_velo_col_pos = df.columns.get_loc(\"V00\")\n",
    "flow_data = df.to_numpy()[:, first_velo_col_pos:]\n",
    "flow_data"
   ]
  },
  {
   "cell_type": "code",
   "execution_count": 4,
   "metadata": {},
   "outputs": [
    {
     "data": {
      "text/plain": [
       "array([[0.28289474, 0.32936508, 0.25870647, ..., 0.21266968, 0.10394265,\n",
       "        0.16037736],\n",
       "       [0.10526316, 0.11111111, 0.08457711, ..., 0.21719457, 0.15770609,\n",
       "        0.12264151],\n",
       "       [0.08552632, 0.12698413, 0.10447761, ..., 0.25791855, 0.10394265,\n",
       "        0.18867925],\n",
       "       ...,\n",
       "       [0.32894737, 0.32142857, 0.44278607, ..., 0.27149321, 0.17562724,\n",
       "        0.21226415],\n",
       "       [0.13157895, 0.11507937, 0.17910448, ..., 0.28054299, 0.17921147,\n",
       "        0.29245283],\n",
       "       [0.11842105, 0.11904762, 0.11940299, ..., 0.28506787, 0.1827957 ,\n",
       "        0.25471698]])"
      ]
     },
     "execution_count": 4,
     "metadata": {},
     "output_type": "execute_result"
    }
   ],
   "source": [
    "flow_scaler = MinMaxScaler(feature_range=(0, 1)).fit(flow_data)\n",
    "flow_values = flow_scaler.transform(flow_data)\n",
    "flow_values"
   ]
  },
  {
   "cell_type": "code",
   "execution_count": 5,
   "metadata": {},
   "outputs": [
    {
     "data": {
      "text/plain": [
       "array([[-37.86703, 145.09159],\n",
       "       [-37.86703, 145.09159],\n",
       "       [-37.86703, 145.09159],\n",
       "       ...,\n",
       "       [-37.81296, 145.0083 ],\n",
       "       [-37.81296, 145.0083 ],\n",
       "       [-37.81296, 145.0083 ]])"
      ]
     },
     "execution_count": 5,
     "metadata": {},
     "output_type": "execute_result"
    }
   ],
   "source": [
    "lat_data = df['NB_LATITUDE'].to_numpy().reshape(-1, 1)\n",
    "long_data = df['NB_LONGITUDE'].to_numpy().reshape(-1, 1)\n",
    "np.concatenate((lat_data, long_data), axis=1)"
   ]
  },
  {
   "cell_type": "code",
   "execution_count": 12,
   "metadata": {},
   "outputs": [
    {
     "data": {
      "text/plain": [
       "array([[1.50524459e-05, 9.99949965e-01],\n",
       "       [1.50524459e-05, 9.99949965e-01],\n",
       "       [1.50524459e-05, 9.99949965e-01],\n",
       "       ...,\n",
       "       [1.44292218e-03, 9.99375943e-01],\n",
       "       [1.44292218e-03, 9.99375943e-01],\n",
       "       [1.44292218e-03, 9.99375943e-01]])"
      ]
     },
     "execution_count": 12,
     "metadata": {},
     "output_type": "execute_result"
    }
   ],
   "source": [
    "latlong_data = np.concatenate((lat_data, long_data), axis=1)\n",
    "scaler = MinMaxScaler(feature_range=(0, 1)).fit(latlong_data)\n",
    "latlong = scaler.transform(latlong_data)\n",
    "latlong"
   ]
  },
  {
   "cell_type": "code",
   "execution_count": 155,
   "metadata": {},
   "outputs": [],
   "source": [
    "num_time_steps = 96"
   ]
  },
  {
   "cell_type": "code",
   "execution_count": 156,
   "metadata": {},
   "outputs": [
    {
     "data": {
      "text/plain": [
       "array([[0.        ],\n",
       "       [0.01041667],\n",
       "       [0.02083333],\n",
       "       ...,\n",
       "       [0.96875   ],\n",
       "       [0.97916667],\n",
       "       [0.98958333]])"
      ]
     },
     "execution_count": 156,
     "metadata": {},
     "output_type": "execute_result"
    }
   ],
   "source": [
    "time_values = np.arange(num_time_steps) * 15 / 24 / 60\n",
    "time_column = np.tile(time_values, len(flow_values)).reshape(-1, 1)\n",
    "time_column"
   ]
  },
  {
   "cell_type": "code",
   "execution_count": 93,
   "metadata": {},
   "outputs": [
    {
     "data": {
      "text/plain": [
       "array([[1.50524459e-05, 9.99949965e-01],\n",
       "       [1.50524459e-05, 9.99949965e-01],\n",
       "       [1.50524459e-05, 9.99949965e-01],\n",
       "       ...,\n",
       "       [1.44292218e-03, 9.99375943e-01],\n",
       "       [1.44292218e-03, 9.99375943e-01],\n",
       "       [1.44292218e-03, 9.99375943e-01]])"
      ]
     },
     "execution_count": 93,
     "metadata": {},
     "output_type": "execute_result"
    }
   ],
   "source": [
    "expanded_latlong = np.repeat(latlong, num_time_steps, axis=0).reshape(-1, 2)\n",
    "expanded_latlong"
   ]
  },
  {
   "cell_type": "code",
   "execution_count": 146,
   "metadata": {},
   "outputs": [
    {
     "data": {
      "text/plain": [
       "array([[0.32936508],\n",
       "       [0.25870647],\n",
       "       [0.20640569],\n",
       "       ...,\n",
       "       [0.1827957 ],\n",
       "       [0.25471698],\n",
       "       [0.11842105]])"
      ]
     },
     "execution_count": 146,
     "metadata": {},
     "output_type": "execute_result"
    }
   ],
   "source": [
    "shifted_flow_values = np.roll(flow_values, -1, axis=1)\n",
    "shifted_flow_column = shifted_flow_values.reshape(-1, 1)\n",
    "shifted_flow_column"
   ]
  },
  {
   "cell_type": "code",
   "execution_count": 152,
   "metadata": {},
   "outputs": [
    {
     "data": {
      "text/plain": [
       "array([[0.00000000e+00, 1.50524459e-05, 9.99949965e-01, 3.29365079e-01],\n",
       "       [1.04166667e-02, 1.50524459e-05, 9.99949965e-01, 2.58706468e-01],\n",
       "       [2.08333333e-02, 1.50524459e-05, 9.99949965e-01, 2.06405694e-01],\n",
       "       ...,\n",
       "       [9.68750000e-01, 1.44292218e-03, 9.99375943e-01, 1.82795699e-01],\n",
       "       [9.79166667e-01, 1.44292218e-03, 9.99375943e-01, 2.54716981e-01],\n",
       "       [9.89583333e-01, 1.44292218e-03, 9.99375943e-01, 1.18421053e-01]])"
      ]
     },
     "execution_count": 152,
     "metadata": {},
     "output_type": "execute_result"
    }
   ],
   "source": [
    "train = np.hstack((time_column, expanded_latlong, shifted_flow_column))\n",
    "train"
   ]
  },
  {
   "cell_type": "code",
   "execution_count": 153,
   "metadata": {},
   "outputs": [
    {
     "data": {
      "text/plain": [
       "(array([[6.25000000e-02, 1.40489495e-03, 9.99873190e-01],\n",
       "        [2.39583333e-01, 1.92486453e-03, 9.99740522e-01],\n",
       "        [1.04166667e-01, 1.94202960e-03, 9.99793244e-01],\n",
       "        ...,\n",
       "        [6.14583333e-01, 7.81934952e-04, 9.99985941e-01],\n",
       "        [6.66666667e-01, 1.12338780e-03, 9.99856305e-01],\n",
       "        [4.89583333e-01, 1.17910826e-03, 9.99484283e-01]]),\n",
       " array([0.05825243, 0.01818182, 0.04950495, ..., 0.43074004, 0.2296173 ,\n",
       "        0.22940226]),\n",
       " array([[1.35416667e-01, 1.72574972e-03, 9.99737834e-01],\n",
       "        [7.91666667e-01, 2.25820226e-03, 9.99855103e-01],\n",
       "        [4.37500000e-01, 1.72284486e-03, 9.99743761e-01],\n",
       "        ...,\n",
       "        [0.00000000e+00, 9.67845863e-04, 9.99544655e-01],\n",
       "        [5.31250000e-01, 9.67845863e-04, 9.99544655e-01],\n",
       "        [6.56250000e-01, 1.67134965e-03, 9.99883666e-01]]),\n",
       " array([0.03191489, 0.37157107, 0.22068966, ..., 0.03571429, 0.18979592,\n",
       "        0.22638436]))"
      ]
     },
     "execution_count": 153,
     "metadata": {},
     "output_type": "execute_result"
    }
   ],
   "source": [
    "X = train[:, :-1]\n",
    "y = train[:, -1]\n",
    "\n",
    "X_train, X_test, y_train, y_test = train_test_split(X, y, random_state=0, train_size = .75)\n",
    "\n",
    "(X_train, y_train, X_test, y_test)"
   ]
  }
 ],
 "metadata": {
  "kernelspec": {
   "display_name": "TrafficFlowPrediction-WPfhaqHo",
   "language": "python",
   "name": "python3"
  },
  "language_info": {
   "codemirror_mode": {
    "name": "ipython",
    "version": 3
   },
   "file_extension": ".py",
   "mimetype": "text/x-python",
   "name": "python",
   "nbconvert_exporter": "python",
   "pygments_lexer": "ipython3",
   "version": "3.11.3"
  },
  "orig_nbformat": 4
 },
 "nbformat": 4,
 "nbformat_minor": 2
}
