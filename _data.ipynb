{
 "cells": [
  {
   "cell_type": "code",
   "execution_count": 1,
   "metadata": {},
   "outputs": [],
   "source": [
    "import numpy as np\n",
    "import pandas as pd\n",
    "from sklearn.preprocessing import StandardScaler, MinMaxScaler\n",
    "from sklearn.model_selection import train_test_split"
   ]
  },
  {
   "cell_type": "markdown",
   "metadata": {},
   "source": [
    "## Parsing the Excel file\n",
    "\n",
    "The first header's row only contains the timestamp starting from 00:00 with an increment of 15 minutes.\n",
    "\n",
    "We can ignore it since we can re-calculate the value from the id of velocity and remove that header increase in the readability of the table."
   ]
  },
  {
   "cell_type": "code",
   "execution_count": 2,
   "metadata": {},
   "outputs": [
    {
     "data": {
      "text/html": [
       "<div>\n",
       "<style scoped>\n",
       "    .dataframe tbody tr th:only-of-type {\n",
       "        vertical-align: middle;\n",
       "    }\n",
       "\n",
       "    .dataframe tbody tr th {\n",
       "        vertical-align: top;\n",
       "    }\n",
       "\n",
       "    .dataframe thead th {\n",
       "        text-align: right;\n",
       "    }\n",
       "</style>\n",
       "<table border=\"1\" class=\"dataframe\">\n",
       "  <thead>\n",
       "    <tr style=\"text-align: right;\">\n",
       "      <th></th>\n",
       "      <th>SCATS Number</th>\n",
       "      <th>Location</th>\n",
       "      <th>CD_MELWAY</th>\n",
       "      <th>NB_LATITUDE</th>\n",
       "      <th>NB_LONGITUDE</th>\n",
       "      <th>HF VicRoads Internal</th>\n",
       "      <th>VR Internal Stat</th>\n",
       "      <th>VR Internal Loc</th>\n",
       "      <th>NB_TYPE_SURVEY</th>\n",
       "      <th>Date</th>\n",
       "      <th>...</th>\n",
       "      <th>V86</th>\n",
       "      <th>V87</th>\n",
       "      <th>V88</th>\n",
       "      <th>V89</th>\n",
       "      <th>V90</th>\n",
       "      <th>V91</th>\n",
       "      <th>V92</th>\n",
       "      <th>V93</th>\n",
       "      <th>V94</th>\n",
       "      <th>V95</th>\n",
       "    </tr>\n",
       "  </thead>\n",
       "  <tbody>\n",
       "    <tr>\n",
       "      <th>0</th>\n",
       "      <td>970</td>\n",
       "      <td>WARRIGAL_RD N of HIGH STREET_RD</td>\n",
       "      <td>060 G10</td>\n",
       "      <td>-37.86703</td>\n",
       "      <td>145.09159</td>\n",
       "      <td>249</td>\n",
       "      <td>182</td>\n",
       "      <td>1</td>\n",
       "      <td>1</td>\n",
       "      <td>2006-10-01 00:15:00</td>\n",
       "      <td>...</td>\n",
       "      <td>114</td>\n",
       "      <td>97</td>\n",
       "      <td>97</td>\n",
       "      <td>66</td>\n",
       "      <td>81</td>\n",
       "      <td>50</td>\n",
       "      <td>59</td>\n",
       "      <td>47</td>\n",
       "      <td>29</td>\n",
       "      <td>34</td>\n",
       "    </tr>\n",
       "    <tr>\n",
       "      <th>1</th>\n",
       "      <td>970</td>\n",
       "      <td>WARRIGAL_RD N of HIGH STREET_RD</td>\n",
       "      <td>060 G10</td>\n",
       "      <td>-37.86703</td>\n",
       "      <td>145.09159</td>\n",
       "      <td>249</td>\n",
       "      <td>182</td>\n",
       "      <td>1</td>\n",
       "      <td>1</td>\n",
       "      <td>2006-10-02 00:15:00</td>\n",
       "      <td>...</td>\n",
       "      <td>111</td>\n",
       "      <td>102</td>\n",
       "      <td>107</td>\n",
       "      <td>114</td>\n",
       "      <td>80</td>\n",
       "      <td>60</td>\n",
       "      <td>62</td>\n",
       "      <td>48</td>\n",
       "      <td>44</td>\n",
       "      <td>26</td>\n",
       "    </tr>\n",
       "    <tr>\n",
       "      <th>2</th>\n",
       "      <td>970</td>\n",
       "      <td>WARRIGAL_RD N of HIGH STREET_RD</td>\n",
       "      <td>060 G10</td>\n",
       "      <td>-37.86703</td>\n",
       "      <td>145.09159</td>\n",
       "      <td>249</td>\n",
       "      <td>182</td>\n",
       "      <td>1</td>\n",
       "      <td>1</td>\n",
       "      <td>2006-10-03 00:15:00</td>\n",
       "      <td>...</td>\n",
       "      <td>130</td>\n",
       "      <td>132</td>\n",
       "      <td>114</td>\n",
       "      <td>86</td>\n",
       "      <td>93</td>\n",
       "      <td>90</td>\n",
       "      <td>73</td>\n",
       "      <td>57</td>\n",
       "      <td>29</td>\n",
       "      <td>40</td>\n",
       "    </tr>\n",
       "    <tr>\n",
       "      <th>3</th>\n",
       "      <td>970</td>\n",
       "      <td>WARRIGAL_RD N of HIGH STREET_RD</td>\n",
       "      <td>060 G10</td>\n",
       "      <td>-37.86703</td>\n",
       "      <td>145.09159</td>\n",
       "      <td>249</td>\n",
       "      <td>182</td>\n",
       "      <td>1</td>\n",
       "      <td>1</td>\n",
       "      <td>2006-10-04 00:15:00</td>\n",
       "      <td>...</td>\n",
       "      <td>115</td>\n",
       "      <td>113</td>\n",
       "      <td>132</td>\n",
       "      <td>101</td>\n",
       "      <td>113</td>\n",
       "      <td>90</td>\n",
       "      <td>78</td>\n",
       "      <td>66</td>\n",
       "      <td>52</td>\n",
       "      <td>44</td>\n",
       "    </tr>\n",
       "    <tr>\n",
       "      <th>4</th>\n",
       "      <td>970</td>\n",
       "      <td>WARRIGAL_RD N of HIGH STREET_RD</td>\n",
       "      <td>060 G10</td>\n",
       "      <td>-37.86703</td>\n",
       "      <td>145.09159</td>\n",
       "      <td>249</td>\n",
       "      <td>182</td>\n",
       "      <td>1</td>\n",
       "      <td>1</td>\n",
       "      <td>2006-10-05 00:15:00</td>\n",
       "      <td>...</td>\n",
       "      <td>171</td>\n",
       "      <td>120</td>\n",
       "      <td>116</td>\n",
       "      <td>113</td>\n",
       "      <td>99</td>\n",
       "      <td>91</td>\n",
       "      <td>61</td>\n",
       "      <td>55</td>\n",
       "      <td>49</td>\n",
       "      <td>36</td>\n",
       "    </tr>\n",
       "    <tr>\n",
       "      <th>...</th>\n",
       "      <td>...</td>\n",
       "      <td>...</td>\n",
       "      <td>...</td>\n",
       "      <td>...</td>\n",
       "      <td>...</td>\n",
       "      <td>...</td>\n",
       "      <td>...</td>\n",
       "      <td>...</td>\n",
       "      <td>...</td>\n",
       "      <td>...</td>\n",
       "      <td>...</td>\n",
       "      <td>...</td>\n",
       "      <td>...</td>\n",
       "      <td>...</td>\n",
       "      <td>...</td>\n",
       "      <td>...</td>\n",
       "      <td>...</td>\n",
       "      <td>...</td>\n",
       "      <td>...</td>\n",
       "      <td>...</td>\n",
       "      <td>...</td>\n",
       "    </tr>\n",
       "    <tr>\n",
       "      <th>4187</th>\n",
       "      <td>4821</td>\n",
       "      <td>VICTORIA_ST W OF BURNLEY_ST</td>\n",
       "      <td>002HF02</td>\n",
       "      <td>-37.81296</td>\n",
       "      <td>145.00830</td>\n",
       "      <td>6673</td>\n",
       "      <td>1513</td>\n",
       "      <td>7</td>\n",
       "      <td>1</td>\n",
       "      <td>2006-10-27 00:15:00</td>\n",
       "      <td>...</td>\n",
       "      <td>122</td>\n",
       "      <td>121</td>\n",
       "      <td>127</td>\n",
       "      <td>103</td>\n",
       "      <td>122</td>\n",
       "      <td>124</td>\n",
       "      <td>117</td>\n",
       "      <td>99</td>\n",
       "      <td>108</td>\n",
       "      <td>88</td>\n",
       "    </tr>\n",
       "    <tr>\n",
       "      <th>4188</th>\n",
       "      <td>4821</td>\n",
       "      <td>VICTORIA_ST W OF BURNLEY_ST</td>\n",
       "      <td>002HF02</td>\n",
       "      <td>-37.81296</td>\n",
       "      <td>145.00830</td>\n",
       "      <td>6673</td>\n",
       "      <td>1513</td>\n",
       "      <td>7</td>\n",
       "      <td>1</td>\n",
       "      <td>2006-10-28 00:15:00</td>\n",
       "      <td>...</td>\n",
       "      <td>93</td>\n",
       "      <td>93</td>\n",
       "      <td>93</td>\n",
       "      <td>105</td>\n",
       "      <td>105</td>\n",
       "      <td>112</td>\n",
       "      <td>82</td>\n",
       "      <td>97</td>\n",
       "      <td>106</td>\n",
       "      <td>107</td>\n",
       "    </tr>\n",
       "    <tr>\n",
       "      <th>4189</th>\n",
       "      <td>4821</td>\n",
       "      <td>VICTORIA_ST W OF BURNLEY_ST</td>\n",
       "      <td>002HF02</td>\n",
       "      <td>-37.81296</td>\n",
       "      <td>145.00830</td>\n",
       "      <td>6673</td>\n",
       "      <td>1513</td>\n",
       "      <td>7</td>\n",
       "      <td>1</td>\n",
       "      <td>2006-10-29 00:15:00</td>\n",
       "      <td>...</td>\n",
       "      <td>87</td>\n",
       "      <td>118</td>\n",
       "      <td>83</td>\n",
       "      <td>76</td>\n",
       "      <td>66</td>\n",
       "      <td>64</td>\n",
       "      <td>77</td>\n",
       "      <td>60</td>\n",
       "      <td>49</td>\n",
       "      <td>45</td>\n",
       "    </tr>\n",
       "    <tr>\n",
       "      <th>4190</th>\n",
       "      <td>4821</td>\n",
       "      <td>VICTORIA_ST W OF BURNLEY_ST</td>\n",
       "      <td>002HF02</td>\n",
       "      <td>-37.81296</td>\n",
       "      <td>145.00830</td>\n",
       "      <td>6673</td>\n",
       "      <td>1513</td>\n",
       "      <td>7</td>\n",
       "      <td>1</td>\n",
       "      <td>2006-10-30 00:15:00</td>\n",
       "      <td>...</td>\n",
       "      <td>90</td>\n",
       "      <td>88</td>\n",
       "      <td>89</td>\n",
       "      <td>80</td>\n",
       "      <td>74</td>\n",
       "      <td>48</td>\n",
       "      <td>67</td>\n",
       "      <td>62</td>\n",
       "      <td>50</td>\n",
       "      <td>62</td>\n",
       "    </tr>\n",
       "    <tr>\n",
       "      <th>4191</th>\n",
       "      <td>4821</td>\n",
       "      <td>VICTORIA_ST W OF BURNLEY_ST</td>\n",
       "      <td>002HF02</td>\n",
       "      <td>-37.81296</td>\n",
       "      <td>145.00830</td>\n",
       "      <td>6673</td>\n",
       "      <td>1513</td>\n",
       "      <td>7</td>\n",
       "      <td>1</td>\n",
       "      <td>2006-10-31 00:15:00</td>\n",
       "      <td>...</td>\n",
       "      <td>123</td>\n",
       "      <td>103</td>\n",
       "      <td>93</td>\n",
       "      <td>87</td>\n",
       "      <td>74</td>\n",
       "      <td>87</td>\n",
       "      <td>75</td>\n",
       "      <td>63</td>\n",
       "      <td>51</td>\n",
       "      <td>54</td>\n",
       "    </tr>\n",
       "  </tbody>\n",
       "</table>\n",
       "<p>4192 rows × 106 columns</p>\n",
       "</div>"
      ],
      "text/plain": [
       "      SCATS Number                         Location CD_MELWAY  NB_LATITUDE  \\\n",
       "0              970  WARRIGAL_RD N of HIGH STREET_RD   060 G10    -37.86703   \n",
       "1              970  WARRIGAL_RD N of HIGH STREET_RD   060 G10    -37.86703   \n",
       "2              970  WARRIGAL_RD N of HIGH STREET_RD   060 G10    -37.86703   \n",
       "3              970  WARRIGAL_RD N of HIGH STREET_RD   060 G10    -37.86703   \n",
       "4              970  WARRIGAL_RD N of HIGH STREET_RD   060 G10    -37.86703   \n",
       "...            ...                              ...       ...          ...   \n",
       "4187          4821      VICTORIA_ST W OF BURNLEY_ST   002HF02    -37.81296   \n",
       "4188          4821      VICTORIA_ST W OF BURNLEY_ST   002HF02    -37.81296   \n",
       "4189          4821      VICTORIA_ST W OF BURNLEY_ST   002HF02    -37.81296   \n",
       "4190          4821      VICTORIA_ST W OF BURNLEY_ST   002HF02    -37.81296   \n",
       "4191          4821      VICTORIA_ST W OF BURNLEY_ST   002HF02    -37.81296   \n",
       "\n",
       "      NB_LONGITUDE  HF VicRoads Internal  VR Internal Stat  VR Internal Loc  \\\n",
       "0        145.09159                   249               182                1   \n",
       "1        145.09159                   249               182                1   \n",
       "2        145.09159                   249               182                1   \n",
       "3        145.09159                   249               182                1   \n",
       "4        145.09159                   249               182                1   \n",
       "...            ...                   ...               ...              ...   \n",
       "4187     145.00830                  6673              1513                7   \n",
       "4188     145.00830                  6673              1513                7   \n",
       "4189     145.00830                  6673              1513                7   \n",
       "4190     145.00830                  6673              1513                7   \n",
       "4191     145.00830                  6673              1513                7   \n",
       "\n",
       "      NB_TYPE_SURVEY                Date  ...  V86  V87  V88  V89  V90  V91  \\\n",
       "0                  1 2006-10-01 00:15:00  ...  114   97   97   66   81   50   \n",
       "1                  1 2006-10-02 00:15:00  ...  111  102  107  114   80   60   \n",
       "2                  1 2006-10-03 00:15:00  ...  130  132  114   86   93   90   \n",
       "3                  1 2006-10-04 00:15:00  ...  115  113  132  101  113   90   \n",
       "4                  1 2006-10-05 00:15:00  ...  171  120  116  113   99   91   \n",
       "...              ...                 ...  ...  ...  ...  ...  ...  ...  ...   \n",
       "4187               1 2006-10-27 00:15:00  ...  122  121  127  103  122  124   \n",
       "4188               1 2006-10-28 00:15:00  ...   93   93   93  105  105  112   \n",
       "4189               1 2006-10-29 00:15:00  ...   87  118   83   76   66   64   \n",
       "4190               1 2006-10-30 00:15:00  ...   90   88   89   80   74   48   \n",
       "4191               1 2006-10-31 00:15:00  ...  123  103   93   87   74   87   \n",
       "\n",
       "      V92  V93  V94  V95  \n",
       "0      59   47   29   34  \n",
       "1      62   48   44   26  \n",
       "2      73   57   29   40  \n",
       "3      78   66   52   44  \n",
       "4      61   55   49   36  \n",
       "...   ...  ...  ...  ...  \n",
       "4187  117   99  108   88  \n",
       "4188   82   97  106  107  \n",
       "4189   77   60   49   45  \n",
       "4190   67   62   50   62  \n",
       "4191   75   63   51   54  \n",
       "\n",
       "[4192 rows x 106 columns]"
      ]
     },
     "execution_count": 2,
     "metadata": {},
     "output_type": "execute_result"
    }
   ],
   "source": [
    "df = pd.read_excel(\"data/Scats Data October 2006.xls\", sheet_name=\"Data\", header=[1])\n",
    "df"
   ]
  },
  {
   "cell_type": "code",
   "execution_count": 34,
   "metadata": {},
   "outputs": [],
   "source": [
    "first_velo_col_pos = df.columns.get_loc(\"V00\")\n",
    "flow_group = np.char.mod(\"V%02d\", np.arange(0, 96))\n",
    "grouped = df.groupby(['NB_LATITUDE', 'NB_LONGITUDE'])[flow_group].apply(lambda x: x.values.tolist())"
   ]
  },
  {
   "cell_type": "code",
   "execution_count": 35,
   "metadata": {},
   "outputs": [],
   "source": [
    "flow_data = grouped.values\n",
    "flow_scaler = np.array(flow_data.max()).max()"
   ]
  },
  {
   "cell_type": "code",
   "execution_count": 5,
   "metadata": {},
   "outputs": [
    {
     "data": {
      "text/plain": [
       "array([[-37.8676   , 145.09146  ],\n",
       "       [-37.86735  , 145.09195  ],\n",
       "       [-37.86723  , 145.09103  ],\n",
       "       [-37.86703  , 145.09159  ],\n",
       "       [-37.86155  , 145.05751  ],\n",
       "       [-37.86152  , 145.05851  ],\n",
       "       [-37.8612671, 145.058038 ],\n",
       "       [-37.86088  , 145.05744  ],\n",
       "       [-37.85513  , 145.09376  ],\n",
       "       [-37.85489  , 145.09413  ],\n",
       "       [-37.85467  , 145.09384  ],\n",
       "       [-37.85221  , 145.09425  ],\n",
       "       [-37.85193  , 145.09463  ],\n",
       "       [-37.85187  , 145.09407  ],\n",
       "       [-37.8516827, 145.0943457],\n",
       "       [-37.84741  , 145.05263  ],\n",
       "       [-37.84726  , 145.05308  ],\n",
       "       [-37.84714  , 145.05205  ],\n",
       "       [-37.84686  , 145.04508  ],\n",
       "       [-37.84683  , 145.05275  ],\n",
       "       [-37.84632  , 145.04378  ],\n",
       "       [-37.83799  , 145.09681  ],\n",
       "       [-37.83777  , 145.06115  ],\n",
       "       [-37.83756  , 145.06057  ],\n",
       "       [-37.83755  , 145.09741  ],\n",
       "       [-37.83741  , 145.09626  ],\n",
       "       [-37.83738  , 145.06119  ],\n",
       "       [-37.83725  , 145.06055  ],\n",
       "       [-37.83695  , 145.09699  ],\n",
       "       [-37.83394  , 145.06233  ],\n",
       "       [-37.8337   , 145.06275  ],\n",
       "       [-37.83362  , 145.06202  ],\n",
       "       [-37.83331  , 145.06247  ],\n",
       "       [-37.83323  , 145.05532  ],\n",
       "       [-37.83312  , 145.05571  ],\n",
       "       [-37.83294  , 145.05594  ],\n",
       "       [-37.83284  , 145.05505  ],\n",
       "       [-37.83256  , 145.05545  ],\n",
       "       [-37.83254  , 145.05507  ],\n",
       "       [-37.83199  , 145.04636  ],\n",
       "       [-37.83186  , 145.04668  ],\n",
       "       [-37.8318   , 145.04614  ],\n",
       "       [-37.83095  , 145.03278  ],\n",
       "       [-37.8303   , 145.03336  ],\n",
       "       [-37.83015  , 145.03208  ],\n",
       "       [-37.82951  , 145.03304  ],\n",
       "       [-37.82912  , 145.01576  ],\n",
       "       [-37.82903  , 145.01456  ],\n",
       "       [-37.82859  , 145.01644  ],\n",
       "       [-37.82804  , 145.09858  ],\n",
       "       [-37.82778  , 145.09885  ],\n",
       "       [-37.82772  , 145.0983   ],\n",
       "       [-37.82542  , 145.04346  ],\n",
       "       [-37.82535  , 145.07827  ],\n",
       "       [-37.82529  , 145.04387  ],\n",
       "       [-37.82527  , 145.07757  ],\n",
       "       [-37.82518  , 145.04301  ],\n",
       "       [-37.82506  , 145.078    ],\n",
       "       [-37.82441  , 145.03399  ],\n",
       "       [-37.82416  , 145.03445  ],\n",
       "       [-37.82405  , 145.03349  ],\n",
       "       [-37.82404  , 145.06435  ],\n",
       "       [-37.82389  , 145.03409  ],\n",
       "       [-37.82379  , 145.06466  ],\n",
       "       [-37.82374  , 145.06417  ],\n",
       "       [-37.8232985, 145.0250328],\n",
       "       [-37.82315  , 145.05724  ],\n",
       "       [-37.82313  , 145.02565  ],\n",
       "       [-37.82295  , 145.02402  ],\n",
       "       [-37.82295  , 145.05773  ],\n",
       "       [-37.8228462, 145.0251292],\n",
       "       [-37.82284  , 145.05684  ],\n",
       "       [-37.82264  , 145.05734  ],\n",
       "       [-37.82155  , 145.01503  ],\n",
       "       [-37.81912  , 145.05801  ],\n",
       "       [-37.8188   , 145.05739  ],\n",
       "       [-37.81744  , 145.05873  ],\n",
       "       [-37.8172654, 145.0583603],\n",
       "       [-37.81682  , 145.09802  ],\n",
       "       [-37.81655  , 145.09831  ],\n",
       "       [-37.8164799, 145.0977388],\n",
       "       [-37.81631  , 145.09812  ],\n",
       "       [-37.81545  , 145.02652  ],\n",
       "       [-37.81521  , 145.02706  ],\n",
       "       [-37.8151   , 145.02608  ],\n",
       "       [-37.81495  , 145.0219   ],\n",
       "       [-37.81489  , 145.02663  ],\n",
       "       [-37.81476  , 145.07996  ],\n",
       "       [-37.81469  , 145.02261  ],\n",
       "       [-37.81457  , 145.02161  ],\n",
       "       [-37.81441  , 145.02243  ],\n",
       "       [-37.8144   , 145.08045  ],\n",
       "       [-37.81429  , 145.07951  ],\n",
       "       [-37.81404  , 145.0801   ],\n",
       "       [-37.81312  , 145.00844  ],\n",
       "       [-37.81296  , 145.0083   ],\n",
       "       [-37.81293  , 145.00865  ],\n",
       "       [-37.81285  , 145.00849  ],\n",
       "       [-37.81216  , 145.05933  ],\n",
       "       [-37.81193  , 145.05982  ],\n",
       "       [-37.81184  , 145.05901  ],\n",
       "       [-37.81147  , 145.05946  ],\n",
       "       [-37.809547 , 145.036785 ],\n",
       "       [-37.809274 , 145.037306 ],\n",
       "       [-37.80926  , 145.02729  ],\n",
       "       [-37.809176 , 145.036452 ],\n",
       "       [-37.80892  , 145.02704  ],\n",
       "       [-37.80887  , 145.02793  ],\n",
       "       [-37.80876  , 145.02757  ],\n",
       "       [-37.80624  , 145.03518  ],\n",
       "       [-37.80619  , 145.03532  ],\n",
       "       [-37.80564  , 145.08171  ],\n",
       "       [-37.80508  , 145.08246  ],\n",
       "       [-37.80487  , 145.08092  ],\n",
       "       [-37.80431  , 145.08197  ],\n",
       "       [-37.80256  , 145.06117  ],\n",
       "       [-37.80236  , 145.06167  ],\n",
       "       [-37.80225  , 145.06081  ],\n",
       "       [-37.80202  , 145.06127  ],\n",
       "       [-37.8010857, 145.048755 ],\n",
       "       [-37.80086  , 145.04962  ],\n",
       "       [-37.800776 , 145.0494611],\n",
       "       [-37.80063  , 145.04864  ],\n",
       "       [-37.79635  , 145.08352  ],\n",
       "       [-37.79618  , 145.08328  ],\n",
       "       [-37.79611  , 145.08372  ],\n",
       "       [-37.79567  , 145.06111  ],\n",
       "       [-37.79561  , 145.06251  ],\n",
       "       [-37.7948   , 145.03015  ],\n",
       "       [-37.79477  , 145.03077  ],\n",
       "       [-37.79471  , 145.0612   ],\n",
       "       [-37.79419  , 145.0696   ],\n",
       "       [-37.79418  , 145.06955  ],\n",
       "       [-37.79406  , 145.06885  ],\n",
       "       [-37.78661  , 145.06202  ],\n",
       "       [-37.78267  , 145.07729  ],\n",
       "       [-37.7820873, 145.0778256],\n",
       "       [-37.78127  , 145.07688  ],\n",
       "       [-37.78093  , 145.07733  ],\n",
       "       [  0.       ,   0.       ]])"
      ]
     },
     "execution_count": 5,
     "metadata": {},
     "output_type": "execute_result"
    }
   ],
   "source": [
    "latlong_data = np.array(grouped.index.to_list())\n",
    "latlong_data"
   ]
  },
  {
   "cell_type": "code",
   "execution_count": 59,
   "metadata": {},
   "outputs": [
    {
     "data": {
      "text/plain": [
       "array([0.05660377, 0.05345912, 0.05660377, ..., 0.04402516, 0.0408805 ,\n",
       "       0.03459119])"
      ]
     },
     "execution_count": 59,
     "metadata": {},
     "output_type": "execute_result"
    }
   ],
   "source": [
    "\n",
    "train = []\n",
    "\n",
    "lags = 7\n",
    "train = []\n",
    "# for data in flow_values:\n",
    "# \tindices = np.arange(lags, len(data))\n",
    "# \toffset = np.arange(-lags, 1)\n",
    "# \tflow_arr = data[indices[:, np.newaxis] + offset]\n",
    "# \t# latlong_arr = np.tile(latlong_data, (len(flow_arr), 1))\n",
    "# \t# print(flow_arr.shape)\n",
    "# \tprint(latlong_data.shape)\n",
    "# \t# combined_arr = np.hstack((latlong_data_tiled, flow_arr))\n",
    "# \t# train.extend(combined_arr)\n",
    "# # train\n",
    "# # np.array(train)[:, -1]\n",
    "\n",
    "# flow_data\n",
    "\n",
    "i = 0\n",
    "for flow in grouped.values:\n",
    "\tflow = np.array(flow, dtype=float).flatten() / flow_scaler\n",
    "\tindices = np.arange(lags, len(flow))\n",
    "\toffset = np.arange(-lags, 1)\n",
    "\tflow = flow[indices[:, np.newaxis] + offset]\n",
    "\tlatlong = np.tile(latlong_data[i], (len(flow), 1))\n",
    "\tcombined_arr = np.hstack((latlong, flow))\n",
    "\ttrain.extend(combined_arr)\n",
    "\ti += 1\n",
    "\t# print(latlong.shape)\n",
    "np.array(train)[:, -1]"
   ]
  },
  {
   "cell_type": "code",
   "execution_count": 19,
   "metadata": {},
   "outputs": [
    {
     "data": {
      "text/plain": [
       "0      2006-10-01 00:15:00\n",
       "1      2006-10-02 00:15:00\n",
       "2      2006-10-03 00:15:00\n",
       "3      2006-10-04 00:15:00\n",
       "4      2006-10-05 00:15:00\n",
       "               ...        \n",
       "4187   2006-10-27 00:15:00\n",
       "4188   2006-10-28 00:15:00\n",
       "4189   2006-10-29 00:15:00\n",
       "4190   2006-10-30 00:15:00\n",
       "4191   2006-10-31 00:15:00\n",
       "Name: Date, Length: 4192, dtype: datetime64[ns]"
      ]
     },
     "execution_count": 19,
     "metadata": {},
     "output_type": "execute_result"
    }
   ],
   "source": [
    "len(np.unique(df[\"Location\"]))\n",
    "len((df[\"Date\"]))\n",
    "\n",
    "# np.column_stack((df[\"NB_LATITUDE\"], df[\"NB_LONGITUDE\"]))"
   ]
  },
  {
   "cell_type": "code",
   "execution_count": 4,
   "metadata": {},
   "outputs": [
    {
     "data": {
      "text/plain": [
       "numpy.datetime64('2006-10-01T00:15:00.000000000')"
      ]
     },
     "execution_count": 4,
     "metadata": {},
     "output_type": "execute_result"
    }
   ],
   "source": [
    "min(np.unique(np.array(df['Date'])))"
   ]
  },
  {
   "cell_type": "markdown",
   "metadata": {},
   "source": [
    "## Getting the positon of the first collums of velocity\n",
    "\n",
    "Return the array of arrays containing velocity from V00 to V95"
   ]
  },
  {
   "cell_type": "code",
   "execution_count": 5,
   "metadata": {},
   "outputs": [
    {
     "data": {
      "text/plain": [
       "array([[86, 83, 52, ..., 47, 29, 34],\n",
       "       [32, 28, 17, ..., 48, 44, 26],\n",
       "       [26, 32, 21, ..., 57, 29, 40],\n",
       "       ...,\n",
       "       [100, 81, 89, ..., 60, 49, 45],\n",
       "       [40, 29, 36, ..., 62, 50, 62],\n",
       "       [36, 30, 24, ..., 63, 51, 54]], dtype=object)"
      ]
     },
     "execution_count": 5,
     "metadata": {},
     "output_type": "execute_result"
    }
   ],
   "source": [
    "\n",
    "first_velo_col_pos = df.columns.get_loc(\"V00\")\n",
    "flow_data = df.to_numpy()[:, first_velo_col_pos:]\n",
    "flow_data"
   ]
  },
  {
   "cell_type": "code",
   "execution_count": 6,
   "metadata": {},
   "outputs": [
    {
     "data": {
      "text/plain": [
       "array([[0.28289474],\n",
       "       [0.32936508],\n",
       "       [0.25870647],\n",
       "       ...,\n",
       "       [0.28506787],\n",
       "       [0.1827957 ],\n",
       "       [0.25471698]])"
      ]
     },
     "execution_count": 6,
     "metadata": {},
     "output_type": "execute_result"
    }
   ],
   "source": [
    "# flatten_flow_data = flow_data.flatten().reshape(-1, 1)\n",
    "# flow_scaler = MinMaxScaler(feature_range=(0, 1)).fit(flatten_flow_data)\n",
    "# flow_values = flow_scaler.transform(flatten_flow_data)\n",
    "# flow_values\n",
    "flow_scaler = MinMaxScaler(feature_range=(0, 1)).fit(flow_data)\n",
    "flow_values = flow_scaler.transform(flow_data)\n",
    "flow_values.reshape(-1, 1)"
   ]
  },
  {
   "cell_type": "code",
   "execution_count": 7,
   "metadata": {},
   "outputs": [],
   "source": [
    "flatten_flow_data = flow_data.reshape(-1, 1)\n",
    "flow_scaler = MinMaxScaler(feature_range=(0, 1)).fit(flatten_flow_data)\n",
    "flow_values = flow_scaler.transform(flatten_flow_data)"
   ]
  },
  {
   "cell_type": "code",
   "execution_count": 8,
   "metadata": {},
   "outputs": [
    {
     "data": {
      "text/plain": [
       "array([[-37.86703, 145.09159],\n",
       "       [-37.86703, 145.09159],\n",
       "       [-37.86703, 145.09159],\n",
       "       ...,\n",
       "       [-37.81296, 145.0083 ],\n",
       "       [-37.81296, 145.0083 ],\n",
       "       [-37.81296, 145.0083 ]])"
      ]
     },
     "execution_count": 8,
     "metadata": {},
     "output_type": "execute_result"
    }
   ],
   "source": [
    "lat_data = df['NB_LATITUDE'].to_numpy().reshape(-1, 1)\n",
    "long_data = df['NB_LONGITUDE'].to_numpy().reshape(-1, 1)\n",
    "np.concatenate((lat_data, long_data), axis=1)"
   ]
  },
  {
   "cell_type": "code",
   "execution_count": 9,
   "metadata": {},
   "outputs": [
    {
     "data": {
      "text/plain": [
       "array([[1.50524459e-05, 9.99949965e-01],\n",
       "       [1.50524459e-05, 9.99949965e-01],\n",
       "       [1.50524459e-05, 9.99949965e-01],\n",
       "       ...,\n",
       "       [1.44292218e-03, 9.99375943e-01],\n",
       "       [1.44292218e-03, 9.99375943e-01],\n",
       "       [1.44292218e-03, 9.99375943e-01]])"
      ]
     },
     "execution_count": 9,
     "metadata": {},
     "output_type": "execute_result"
    }
   ],
   "source": [
    "latlong_data = np.concatenate((lat_data, long_data), axis=1)\n",
    "latlong_scaler = MinMaxScaler(feature_range=(0, 1)).fit(latlong_data)\n",
    "latlong = latlong_scaler.transform(latlong_data)\n",
    "latlong\n"
   ]
  },
  {
   "cell_type": "code",
   "execution_count": 10,
   "metadata": {},
   "outputs": [],
   "source": [
    "num_time_steps = 96"
   ]
  },
  {
   "cell_type": "code",
   "execution_count": 60,
   "metadata": {},
   "outputs": [
    {
     "data": {
      "text/plain": [
       "array([[0.        ],\n",
       "       [0.01041667],\n",
       "       [0.02083333],\n",
       "       ...,\n",
       "       [0.96875   ],\n",
       "       [0.97916667],\n",
       "       [0.98958333]])"
      ]
     },
     "execution_count": 60,
     "metadata": {},
     "output_type": "execute_result"
    }
   ],
   "source": [
    "time_values = np.arange(num_time_steps) * 15 / 24 / 60\n",
    "time_column = np.tile(time_values, len(flow_data)).reshape(-1, 1)\n",
    "time_column"
   ]
  },
  {
   "cell_type": "code",
   "execution_count": 13,
   "metadata": {},
   "outputs": [
    {
     "data": {
      "text/plain": [
       "array([[1.50524459e-05, 9.99949965e-01],\n",
       "       [1.50524459e-05, 9.99949965e-01],\n",
       "       [1.50524459e-05, 9.99949965e-01],\n",
       "       ...,\n",
       "       [1.44292218e-03, 9.99375943e-01],\n",
       "       [1.44292218e-03, 9.99375943e-01],\n",
       "       [1.44292218e-03, 9.99375943e-01]])"
      ]
     },
     "execution_count": 13,
     "metadata": {},
     "output_type": "execute_result"
    }
   ],
   "source": [
    "expanded_latlong = np.repeat(latlong, num_time_steps, axis=0).reshape(-1, 2)\n",
    "expanded_latlong"
   ]
  },
  {
   "cell_type": "code",
   "execution_count": 14,
   "metadata": {},
   "outputs": [
    {
     "data": {
      "text/plain": [
       "array([[0.11942446],\n",
       "       [0.07482014],\n",
       "       [0.08345324],\n",
       "       ...,\n",
       "       [0.07338129],\n",
       "       [0.07769784],\n",
       "       [0.12374101]])"
      ]
     },
     "execution_count": 14,
     "metadata": {},
     "output_type": "execute_result"
    }
   ],
   "source": [
    "# shifted_flow_values = np.roll(flow_values, -1, axis=1)\n",
    "# shifted_flow_column = shifted_flow_values.reshape(-1, 1)\n",
    "# shifted_flow_column\n",
    "\n",
    "shifted_flow_column = np.roll(flow_values, -1)\n",
    "shifted_flow_column"
   ]
  },
  {
   "cell_type": "code",
   "execution_count": 61,
   "metadata": {},
   "outputs": [
    {
     "data": {
      "text/plain": [
       "array([[0.00000000e+00, 1.50524459e-05, 9.99949965e-01, 1.19424460e-01],\n",
       "       [1.04166667e-02, 1.50524459e-05, 9.99949965e-01, 7.48201439e-02],\n",
       "       [2.08333333e-02, 1.50524459e-05, 9.99949965e-01, 8.34532374e-02],\n",
       "       ...,\n",
       "       [9.68750000e-01, 1.44292218e-03, 9.99375943e-01, 7.33812950e-02],\n",
       "       [9.79166667e-01, 1.44292218e-03, 9.99375943e-01, 7.76978417e-02],\n",
       "       [9.89583333e-01, 1.44292218e-03, 9.99375943e-01, 1.23741007e-01]])"
      ]
     },
     "execution_count": 61,
     "metadata": {},
     "output_type": "execute_result"
    }
   ],
   "source": [
    "train = np.hstack((time_column, expanded_latlong, shifted_flow_column))\n",
    "train"
   ]
  },
  {
   "cell_type": "code",
   "execution_count": null,
   "metadata": {},
   "outputs": [
    {
     "data": {
      "text/plain": [
       "(array([[1.16035290e+18, 1.40489495e-03, 9.99873190e-01],\n",
       "        [1.16225370e+18, 1.92486453e-03, 9.99740522e-01],\n",
       "        [1.16216730e+18, 1.94202960e-03, 9.99793244e-01],\n",
       "        ...,\n",
       "        [1.16182170e+18, 7.81934952e-04, 9.99985941e-01],\n",
       "        [1.16121690e+18, 1.12338780e-03, 9.99856305e-01],\n",
       "        [1.16087130e+18, 1.17910826e-03, 9.99484283e-01]]),\n",
       " array([0.00863309, 0.0057554 , 0.00719424, ..., 0.32661871, 0.19856115,\n",
       "        0.2057554 ]),\n",
       " array([[1.16035290e+18, 1.72574972e-03, 9.99737834e-01],\n",
       "        [1.15974810e+18, 2.25820226e-03, 9.99855103e-01],\n",
       "        [1.16087130e+18, 1.72284486e-03, 9.99743761e-01],\n",
       "        ...,\n",
       "        [1.15992090e+18, 9.67845863e-04, 9.99544655e-01],\n",
       "        [1.16087130e+18, 9.67845863e-04, 9.99544655e-01],\n",
       "        [1.16052570e+18, 1.67134965e-03, 9.99883666e-01]]),\n",
       " array([0.00431655, 0.21438849, 0.13956835, ..., 0.01294964, 0.13381295,\n",
       "        0.2028777 ]))"
      ]
     },
     "execution_count": 14,
     "metadata": {},
     "output_type": "execute_result"
    }
   ],
   "source": [
    "X = train[:, :-1]\n",
    "y = train[:, -1]\n",
    "\n",
    "X_train, X_test, y_train, y_test = train_test_split(X, y, random_state=0, train_size = .75)\n",
    "\n",
    "(X_train, y_train, X_test, y_test)"
   ]
  }
 ],
 "metadata": {
  "kernelspec": {
   "display_name": "TrafficFlowPrediction-WPfhaqHo",
   "language": "python",
   "name": "python3"
  },
  "language_info": {
   "codemirror_mode": {
    "name": "ipython",
    "version": 3
   },
   "file_extension": ".py",
   "mimetype": "text/x-python",
   "name": "python",
   "nbconvert_exporter": "python",
   "pygments_lexer": "ipython3",
   "version": "3.11.3"
  },
  "orig_nbformat": 4
 },
 "nbformat": 4,
 "nbformat_minor": 2
}
